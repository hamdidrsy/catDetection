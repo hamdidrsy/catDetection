{
 "cells": [
  {
   "cell_type": "code",
   "execution_count": 1,
   "id": "4f001a10",
   "metadata": {},
   "outputs": [],
   "source": [
    "#Kütüphaneleri içeri aktardık.\n",
    "import cv2\n",
    "import numpy as np\n",
    "#Uyarıları görmemek için\n",
    "import warnings\n",
    "warnings.filterwarnings(\"ignore\")\n",
    "import os"
   ]
  },
  {
   "cell_type": "code",
   "execution_count": 2,
   "id": "f40935ef",
   "metadata": {},
   "outputs": [
    {
     "name": "stdout",
     "output_type": "stream",
     "text": [
      "Files ['.ipynb_checkpoints', '1.jpg', '2.jpg', '3.jpg', '5.jpg', '6.jpg', '7.jpg', '8.jpg', '9.jpg', 'CatDetection.ipynb', 'haarcascade_frontalcatface.xml', 'haarcascade_frontalcatface_extended.xml']\n",
      "img.jpg: ['1.jpg', '2.jpg', '3.jpg', '5.jpg', '6.jpg', '7.jpg', '8.jpg', '9.jpg']\n"
     ]
    }
   ],
   "source": [
    "#Dosyamızın içini kontrol ettik\n",
    "files = os.listdir()\n",
    "print(\"Files\",files)\n",
    "\n",
    "img_in_files = []\n",
    "#dosyamızın içinde \".jpg\" ile biten resimlerimizi çektik\n",
    "for f in files:\n",
    "    if f.endswith(\".jpg\"):\n",
    "        img_in_files.append(f)\n",
    "print(\"img.jpg:\",img_in_files)"
   ]
  },
  {
   "cell_type": "code",
   "execution_count": 3,
   "id": "8f11a287",
   "metadata": {},
   "outputs": [
    {
     "data": {
      "text/plain": [
       "'\\n#Tek tek yapmak istersek\\n\\ni = img_in_files[1]\\nprint(i)\\n'"
      ]
     },
     "execution_count": 3,
     "metadata": {},
     "output_type": "execute_result"
    }
   ],
   "source": [
    "\"\"\"\n",
    "#Tek tek yapmak istersek\n",
    "\n",
    "i = img_in_files[1]\n",
    "print(i)\n",
    "\"\"\""
   ]
  },
  {
   "cell_type": "code",
   "execution_count": 4,
   "id": "4fc269df",
   "metadata": {},
   "outputs": [
    {
     "name": "stdout",
     "output_type": "stream",
     "text": [
      "1.jpg\n",
      "2.jpg\n",
      "3.jpg\n",
      "5.jpg\n",
      "6.jpg\n",
      "7.jpg\n",
      "8.jpg\n",
      "9.jpg\n"
     ]
    }
   ],
   "source": [
    "#Dosyamızın içindeki resimleri for döngüsüne aldık\n",
    "for i in img_in_files:\n",
    "    print(i)\n",
    "    \n",
    "    #ilk resmimizi çekiyoruz\n",
    "    img = cv2.imread(i)\n",
    "    #Frame\n",
    "    frame = cv2.resize(img,(960,540))\n",
    "    #Resmi gri renkli yapıyoruz\n",
    "    gray = cv2.cvtColor(frame,cv2.COLOR_BGR2GRAY)\n",
    "    #xml\n",
    "    xml = \"haarcascade_frontalcatface_extended.xml\"\n",
    "    # modelimizi çekiyoruz\n",
    "    detector = cv2.CascadeClassifier(xml)\n",
    "    # Tanımayı gri renk üzerinde gerçekleştiriyoruz.\n",
    "    rects = detector.detectMultiScale(\n",
    "                                    gray,\n",
    "                                    scaleFactor= 1.05,\n",
    "                                    minNeighbors=4,\n",
    "                                    flags=cv2.CASCADE_SCALE_IMAGE\n",
    "                                )\n",
    "    \n",
    "    # i == kaçıncı resim\n",
    "    #(x,y,w,h) algılanan yüzün dikdörtgen oluşturmak için.\n",
    "    # enumerate ==> bir nesne içindeki her değer için bir anahtar olarak bir sayaç içeren bir nesne döndürür ve koleksiyondaki öğelere erişimi kolaylaştırır.\n",
    "    for i,(x,y,w,h) in enumerate(rects):\n",
    "        #Dikdörtgenimiz\n",
    "        cv2.rectangle(frame,(x,y),(x+w,y+h),(0,255,0),2)\n",
    "        #İsimlerimiz\n",
    "        cv2.putText(frame,\"Kedi {}\".format(i+1),(x+10,y-7),cv2.FONT_HERSHEY_SIMPLEX,0.6,(0,0,255),2)\n",
    "    #Resmi çağırıyoruz.\n",
    "    cv2.imshow(\"Image\",frame)\n",
    "    \n",
    "    # q click edildikçe continue ile  resim geçişi sağlanır en sonunda kapanır.\n",
    "    if cv2.waitKey(0) & 0xFF == ord(\"q\"):\n",
    "        continue\n",
    "\n",
    "#tüm pencereleri kapat.\n",
    "cv2.destroyAllWindows()\n",
    "     \n",
    "\n"
   ]
  },
  {
   "cell_type": "code",
   "execution_count": null,
   "id": "3fdc9b47",
   "metadata": {},
   "outputs": [],
   "source": []
  }
 ],
 "metadata": {
  "kernelspec": {
   "display_name": "Python 3 (ipykernel)",
   "language": "python",
   "name": "python3"
  },
  "language_info": {
   "codemirror_mode": {
    "name": "ipython",
    "version": 3
   },
   "file_extension": ".py",
   "mimetype": "text/x-python",
   "name": "python",
   "nbconvert_exporter": "python",
   "pygments_lexer": "ipython3",
   "version": "3.9.13"
  }
 },
 "nbformat": 4,
 "nbformat_minor": 5
}
